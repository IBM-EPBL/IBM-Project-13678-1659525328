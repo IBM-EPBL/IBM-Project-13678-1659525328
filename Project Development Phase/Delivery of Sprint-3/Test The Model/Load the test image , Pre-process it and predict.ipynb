{
 "cells": [
  {
   "cell_type": "code",
   "execution_count": 1,
   "id": "7c1c0d9d",
   "metadata": {},
   "outputs": [],
   "source": [
    "import cv2\n",
    "from matplotlib import pyplot as plt\n",
    "import os\n",
    "import numpy as np\n",
    "from tensorflow.keras.preprocessing.image import load_img\n",
    "from tensorflow.keras.preprocessing.image import img_to_array\n",
    "from tensorflow.keras.models import load_model"
   ]
  },
  {
   "cell_type": "code",
   "execution_count": 2,
   "id": "44c7b366",
   "metadata": {},
   "outputs": [
    {
     "name": "stdout",
     "output_type": "stream",
     "text": [
      "<keras.engine.sequential.Sequential object at 0x0000023AADE96FA0>\n",
      "Model Loaded Successfully\n"
     ]
    }
   ],
   "source": [
    "filepath = 'C:/Users/Vasanth/Documents/IBM Project/IBM Project/asl_model_84_54.h5'\n",
    "model = load_model(filepath)\n",
    "print(model)\n",
    "print(\"Model Loaded Successfully\")"
   ]
  },
  {
   "cell_type": "code",
   "execution_count": 8,
   "id": "4c32d337",
   "metadata": {},
   "outputs": [],
   "source": [
    "image= cv2.imread('C:/Users/Vasanth/Documents/IBM Project/Dataset/test_set/D/15.png')"
   ]
  },
  {
   "cell_type": "code",
   "execution_count": 9,
   "id": "cbd1bf6c",
   "metadata": {},
   "outputs": [],
   "source": [
    "test_image = cv2.resize(image, (64,64)) # load image\n",
    "test_image = img_to_array(test_image)/255 # convert image to np array and normalize\n",
    "test_image = np.expand_dims(test_image, axis = 0) # change dimention 3D to 4D"
   ]
  },
  {
   "cell_type": "code",
   "execution_count": 10,
   "id": "ae41294d",
   "metadata": {},
   "outputs": [
    {
     "name": "stdout",
     "output_type": "stream",
     "text": [
      "1/1 [==============================] - 0s 24ms/step\n",
      "[3]\n"
     ]
    }
   ],
   "source": [
    "result = model.predict(test_image) # predict diseased palnt or not\n",
    "pred = np.argmax(result, axis=1)\n",
    "print(pred)"
   ]
  },
  {
   "cell_type": "code",
   "execution_count": null,
   "id": "67abefb1",
   "metadata": {},
   "outputs": [],
   "source": []
  }
 ],
 "metadata": {
  "kernelspec": {
   "display_name": "Python 3 (ipykernel)",
   "language": "python",
   "name": "python3"
  },
  "language_info": {
   "codemirror_mode": {
    "name": "ipython",
    "version": 3
   },
   "file_extension": ".py",
   "mimetype": "text/x-python",
   "name": "python",
   "nbconvert_exporter": "python",
   "pygments_lexer": "ipython3",
   "version": "3.9.12"
  }
 },
 "nbformat": 4,
 "nbformat_minor": 5
}